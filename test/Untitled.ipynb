{
 "cells": [
  {
   "cell_type": "code",
   "execution_count": 1,
   "id": "420123b5",
   "metadata": {},
   "outputs": [],
   "source": [
    "import os"
   ]
  },
  {
   "cell_type": "code",
   "execution_count": 2,
   "id": "c58d97f4",
   "metadata": {},
   "outputs": [],
   "source": [
    "path_a = \"wor\"\n",
    "path_b = \"rer\""
   ]
  },
  {
   "cell_type": "code",
   "execution_count": 3,
   "id": "5b7830ba",
   "metadata": {},
   "outputs": [],
   "source": [
    "path_c = os.path.join(path_a, path_b)"
   ]
  },
  {
   "cell_type": "code",
   "execution_count": 4,
   "id": "296a83a0",
   "metadata": {},
   "outputs": [
    {
     "name": "stdout",
     "output_type": "stream",
     "text": [
      "wor/rer\n"
     ]
    }
   ],
   "source": [
    "print(path_c)"
   ]
  },
  {
   "cell_type": "code",
   "execution_count": 13,
   "id": "11f7f53a",
   "metadata": {},
   "outputs": [
    {
     "data": {
      "text/plain": [
       "True"
      ]
     },
     "execution_count": 13,
     "metadata": {},
     "output_type": "execute_result"
    }
   ],
   "source": [
    "os.path.isfile(\"FedAvg_exp.ipynb\")"
   ]
  },
  {
   "cell_type": "code",
   "execution_count": 12,
   "id": "55763293",
   "metadata": {},
   "outputs": [
    {
     "data": {
      "text/plain": [
       "['FedAvg_exp.ipynb',\n",
       " 'Untitled.ipynb',\n",
       " '.ipynb_checkpoints',\n",
       " 'elementwise_multiplication.ipynb']"
      ]
     },
     "execution_count": 12,
     "metadata": {},
     "output_type": "execute_result"
    }
   ],
   "source": [
    "os.listdir()"
   ]
  },
  {
   "cell_type": "code",
   "execution_count": null,
   "id": "93db36b9",
   "metadata": {},
   "outputs": [],
   "source": []
  }
 ],
 "metadata": {
  "kernelspec": {
   "display_name": "Python 3 (ipykernel)",
   "language": "python",
   "name": "python3"
  },
  "language_info": {
   "codemirror_mode": {
    "name": "ipython",
    "version": 3
   },
   "file_extension": ".py",
   "mimetype": "text/x-python",
   "name": "python",
   "nbconvert_exporter": "python",
   "pygments_lexer": "ipython3",
   "version": "3.8.10"
  }
 },
 "nbformat": 4,
 "nbformat_minor": 5
}
