{
 "cells": [
  {
   "cell_type": "code",
   "execution_count": 1,
   "id": "6db6d684",
   "metadata": {},
   "outputs": [],
   "source": [
    "import numpy as np"
   ]
  },
  {
   "cell_type": "code",
   "execution_count": 7,
   "id": "b4016d59",
   "metadata": {},
   "outputs": [],
   "source": [
    "a = np.array([[1,2,3], [4, 5, 6]])\n",
    "b = np.array([[1,21,13], [3, 2, 1]])"
   ]
  },
  {
   "cell_type": "code",
   "execution_count": 6,
   "id": "3aa8292b",
   "metadata": {},
   "outputs": [
    {
     "data": {
      "text/plain": [
       "array([[ 3,  6,  9],\n",
       "       [12, 15, 18]])"
      ]
     },
     "execution_count": 6,
     "metadata": {},
     "output_type": "execute_result"
    }
   ],
   "source": [
    "a * 3"
   ]
  },
  {
   "cell_type": "code",
   "execution_count": 15,
   "id": "b19407f8",
   "metadata": {},
   "outputs": [],
   "source": [
    "c =np.sum([a, b], axis = 0)"
   ]
  },
  {
   "cell_type": "code",
   "execution_count": 16,
   "id": "86d9c411",
   "metadata": {},
   "outputs": [
    {
     "name": "stdout",
     "output_type": "stream",
     "text": [
      "[[ 2 23 16]\n",
      " [ 7  7  7]]\n"
     ]
    }
   ],
   "source": [
    "print(c)"
   ]
  },
  {
   "cell_type": "code",
   "execution_count": 17,
   "id": "431f828a",
   "metadata": {},
   "outputs": [
    {
     "name": "stdout",
     "output_type": "stream",
     "text": [
      "[[ 2 23 16]\n",
      " [ 7  7  7]]\n"
     ]
    }
   ],
   "source": [
    "print(c)"
   ]
  },
  {
   "cell_type": "code",
   "execution_count": 18,
   "id": "316a13b0",
   "metadata": {},
   "outputs": [],
   "source": [
    "list_array = list()"
   ]
  },
  {
   "cell_type": "code",
   "execution_count": 19,
   "id": "32884b11",
   "metadata": {},
   "outputs": [
    {
     "name": "stdout",
     "output_type": "stream",
     "text": [
      "[array([[1, 2, 3],\n",
      "       [4, 5, 6]]), array([[ 1, 21, 13],\n",
      "       [ 3,  2,  1]])]\n"
     ]
    }
   ],
   "source": [
    "list_array.append(a)\n",
    "list_array.append(b)\n",
    "print(list_array)"
   ]
  },
  {
   "cell_type": "code",
   "execution_count": 27,
   "id": "5b71a3a6",
   "metadata": {},
   "outputs": [
    {
     "name": "stdout",
     "output_type": "stream",
     "text": [
      "[[[0.2 0.4 0.6]\n",
      "  [0.8 1.  1.2]]\n",
      "\n",
      " [[0.2 4.2 2.6]\n",
      "  [0.6 0.4 0.2]]]\n"
     ]
    }
   ],
   "source": [
    "list_array_scaled = np.array(list_array) * 0.2\n",
    "print(list_array_scaled)"
   ]
  },
  {
   "cell_type": "code",
   "execution_count": 24,
   "id": "07219c8e",
   "metadata": {},
   "outputs": [
    {
     "data": {
      "text/plain": [
       "array([[0.3, 0.6, 0.9],\n",
       "       [1.2, 1.5, 1.8]])"
      ]
     },
     "execution_count": 24,
     "metadata": {},
     "output_type": "execute_result"
    }
   ],
   "source": [
    "a * 0.3"
   ]
  },
  {
   "cell_type": "code",
   "execution_count": null,
   "id": "0ca4c4ba",
   "metadata": {},
   "outputs": [],
   "source": []
  }
 ],
 "metadata": {
  "kernelspec": {
   "display_name": "Python 3 (ipykernel)",
   "language": "python",
   "name": "python3"
  },
  "language_info": {
   "codemirror_mode": {
    "name": "ipython",
    "version": 3
   },
   "file_extension": ".py",
   "mimetype": "text/x-python",
   "name": "python",
   "nbconvert_exporter": "python",
   "pygments_lexer": "ipython3",
   "version": "3.8.10"
  }
 },
 "nbformat": 4,
 "nbformat_minor": 5
}
