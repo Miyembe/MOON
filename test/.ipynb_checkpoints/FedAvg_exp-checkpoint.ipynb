{
 "cells": [
  {
   "cell_type": "code",
   "execution_count": 1,
   "id": "6ef2acda",
   "metadata": {},
   "outputs": [],
   "source": [
    "import torch\n",
    "from collections import OrderedDict\n",
    "import numpy as np"
   ]
  },
  {
   "cell_type": "code",
   "execution_count": 3,
   "id": "ba76f390",
   "metadata": {},
   "outputs": [],
   "source": [
    "keys = ['key1', 'key2', 'key3']\n",
    "value = torch.rand(2,3)\n"
   ]
  },
  {
   "cell_type": "code",
   "execution_count": 15,
   "id": "4b9fc487",
   "metadata": {},
   "outputs": [],
   "source": [
    "class Agent():\n",
    "    def __init__(self, num_keys: int, value_dimension: list) -> None:\n",
    "        self.num_keys = num_keys\n",
    "        self.value_dimension = value_dimension\n",
    "        self.keys = [f'key_{i}' for i in range(num_keys)]\n",
    "        self.values = [torch.rand(value_dimension[0], value_dimension[1]) for _ in range(num_keys)]\n",
    "        self.dict = OrderedDict([(key, value) for key, value in zip(self.keys, self.values)])\n",
    "        "
   ]
  },
  {
   "cell_type": "code",
   "execution_count": 16,
   "id": "d59f7fbf",
   "metadata": {},
   "outputs": [
    {
     "name": "stdout",
     "output_type": "stream",
     "text": [
      "[2, 3]\n"
     ]
    }
   ],
   "source": [
    "agent1 = Agent(3, [2,3])"
   ]
  },
  {
   "cell_type": "code",
   "execution_count": null,
   "id": "7635fc09",
   "metadata": {},
   "outputs": [],
   "source": []
  }
 ],
 "metadata": {
  "kernelspec": {
   "display_name": "Python 3 (ipykernel)",
   "language": "python",
   "name": "python3"
  },
  "language_info": {
   "codemirror_mode": {
    "name": "ipython",
    "version": 3
   },
   "file_extension": ".py",
   "mimetype": "text/x-python",
   "name": "python",
   "nbconvert_exporter": "python",
   "pygments_lexer": "ipython3",
   "version": "3.8.10"
  }
 },
 "nbformat": 4,
 "nbformat_minor": 5
}
