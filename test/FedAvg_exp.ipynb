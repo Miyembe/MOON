{
 "cells": [
  {
   "cell_type": "code",
   "execution_count": 21,
   "id": "c0de9a5f",
   "metadata": {},
   "outputs": [],
   "source": [
    "import torch\n",
    "from collections import OrderedDict\n",
    "import numpy as np"
   ]
  },
  {
   "cell_type": "code",
   "execution_count": 22,
   "id": "7d4c55d3",
   "metadata": {},
   "outputs": [],
   "source": [
    "keys = ['key1', 'key2', 'key3']\n",
    "value = torch.rand(2,3)\n"
   ]
  },
  {
   "cell_type": "code",
   "execution_count": 23,
   "id": "285e2961",
   "metadata": {},
   "outputs": [],
   "source": [
    "class Agent():\n",
    "    def __init__(self, num_keys: int, value_dimension: list) -> None:\n",
    "        self.num_keys = num_keys\n",
    "        self.value_dimension = value_dimension\n",
    "        self.keys = [f'key_{i}' for i in range(num_keys)]\n",
    "        self.values = [torch.rand(value_dimension[0], value_dimension[1]) for _ in range(num_keys)]\n",
    "        self.dict = OrderedDict([(key, value) for key, value in zip(self.keys, self.values)])\n",
    "        "
   ]
  },
  {
   "cell_type": "code",
   "execution_count": 42,
   "id": "fa3b035e",
   "metadata": {},
   "outputs": [
    {
     "name": "stdout",
     "output_type": "stream",
     "text": [
      "OrderedDict([('key_0', tensor([[9.6867e-01, 5.6476e-01, 7.1470e-01],\n",
      "        [5.6446e-04, 6.8450e-01, 1.5155e-01]])), ('key_1', tensor([[0.7345, 0.5336, 0.6743],\n",
      "        [0.7321, 0.7649, 0.2310]])), ('key_2', tensor([[0.9733, 0.4058, 0.7800],\n",
      "        [0.2138, 0.4448, 0.3169]]))])\n"
     ]
    }
   ],
   "source": [
    "agent1 = Agent(3, [2,3])\n",
    "print(agent1.dict)\n",
    "array_tensor0 = agent1.values[0].numpy()\n",
    "#print(array_tensor0)"
   ]
  },
  {
   "cell_type": "code",
   "execution_count": 31,
   "id": "3c8dc073",
   "metadata": {},
   "outputs": [
    {
     "name": "stderr",
     "output_type": "stream",
     "text": [
      "/tmp/ipykernel_30194/138526244.py:2: FutureWarning: The input object of type 'Tensor' is an array-like implementing one of the corresponding protocols (`__array__`, `__array_interface__` or `__array_struct__`); but not a sequence (or 0-D). In the future, this object will be coerced as if it was first converted using `np.array(obj)`. To retain the old behaviour, you have to either modify the type 'Tensor', or assign to an empty array created with `np.empty(correct_shape, dtype=object)`.\n",
      "  array_tensors = np.array(list_tensors)\n",
      "/tmp/ipykernel_30194/138526244.py:2: VisibleDeprecationWarning: Creating an ndarray from ragged nested sequences (which is a list-or-tuple of lists-or-tuples-or ndarrays with different lengths or shapes) is deprecated. If you meant to do this, you must specify 'dtype=object' when creating the ndarray.\n",
      "  array_tensors = np.array(list_tensors)\n"
     ]
    },
    {
     "ename": "AttributeError",
     "evalue": "'torch.dtype' object has no attribute 'type'",
     "output_type": "error",
     "traceback": [
      "\u001b[0;31m---------------------------------------------------------------------------\u001b[0m",
      "\u001b[0;31mAttributeError\u001b[0m                            Traceback (most recent call last)",
      "Input \u001b[0;32mIn [31]\u001b[0m, in \u001b[0;36m<cell line: 3>\u001b[0;34m()\u001b[0m\n\u001b[1;32m      1\u001b[0m list_tensors \u001b[38;5;241m=\u001b[39m agent1\u001b[38;5;241m.\u001b[39mvalues\n\u001b[1;32m      2\u001b[0m array_tensors \u001b[38;5;241m=\u001b[39m np\u001b[38;5;241m.\u001b[39marray(list_tensors)\n\u001b[0;32m----> 3\u001b[0m \u001b[43mnp\u001b[49m\u001b[38;5;241;43m.\u001b[39;49m\u001b[43mmean\u001b[49m\u001b[43m(\u001b[49m\u001b[43marray_tensors\u001b[49m\u001b[43m)\u001b[49m\n",
      "File \u001b[0;32m<__array_function__ internals>:180\u001b[0m, in \u001b[0;36mmean\u001b[0;34m(*args, **kwargs)\u001b[0m\n",
      "File \u001b[0;32m~/.local/lib/python3.8/site-packages/numpy/core/fromnumeric.py:3474\u001b[0m, in \u001b[0;36mmean\u001b[0;34m(a, axis, dtype, out, keepdims, where)\u001b[0m\n\u001b[1;32m   3471\u001b[0m     \u001b[38;5;28;01melse\u001b[39;00m:\n\u001b[1;32m   3472\u001b[0m         \u001b[38;5;28;01mreturn\u001b[39;00m mean(axis\u001b[38;5;241m=\u001b[39maxis, dtype\u001b[38;5;241m=\u001b[39mdtype, out\u001b[38;5;241m=\u001b[39mout, \u001b[38;5;241m*\u001b[39m\u001b[38;5;241m*\u001b[39mkwargs)\n\u001b[0;32m-> 3474\u001b[0m \u001b[38;5;28;01mreturn\u001b[39;00m \u001b[43m_methods\u001b[49m\u001b[38;5;241;43m.\u001b[39;49m\u001b[43m_mean\u001b[49m\u001b[43m(\u001b[49m\u001b[43ma\u001b[49m\u001b[43m,\u001b[49m\u001b[43m \u001b[49m\u001b[43maxis\u001b[49m\u001b[38;5;241;43m=\u001b[39;49m\u001b[43maxis\u001b[49m\u001b[43m,\u001b[49m\u001b[43m \u001b[49m\u001b[43mdtype\u001b[49m\u001b[38;5;241;43m=\u001b[39;49m\u001b[43mdtype\u001b[49m\u001b[43m,\u001b[49m\n\u001b[1;32m   3475\u001b[0m \u001b[43m                      \u001b[49m\u001b[43mout\u001b[49m\u001b[38;5;241;43m=\u001b[39;49m\u001b[43mout\u001b[49m\u001b[43m,\u001b[49m\u001b[43m \u001b[49m\u001b[38;5;241;43m*\u001b[39;49m\u001b[38;5;241;43m*\u001b[39;49m\u001b[43mkwargs\u001b[49m\u001b[43m)\u001b[49m\n",
      "File \u001b[0;32m~/.local/lib/python3.8/site-packages/numpy/core/_methods.py:189\u001b[0m, in \u001b[0;36m_mean\u001b[0;34m(a, axis, dtype, out, keepdims, where)\u001b[0m\n\u001b[1;32m    187\u001b[0m         ret \u001b[38;5;241m=\u001b[39m arr\u001b[38;5;241m.\u001b[39mdtype\u001b[38;5;241m.\u001b[39mtype(ret \u001b[38;5;241m/\u001b[39m rcount)\n\u001b[1;32m    188\u001b[0m     \u001b[38;5;28;01melse\u001b[39;00m:\n\u001b[0;32m--> 189\u001b[0m         ret \u001b[38;5;241m=\u001b[39m \u001b[43mret\u001b[49m\u001b[38;5;241;43m.\u001b[39;49m\u001b[43mdtype\u001b[49m\u001b[38;5;241;43m.\u001b[39;49m\u001b[43mtype\u001b[49m(ret \u001b[38;5;241m/\u001b[39m rcount)\n\u001b[1;32m    190\u001b[0m \u001b[38;5;28;01melse\u001b[39;00m:\n\u001b[1;32m    191\u001b[0m     ret \u001b[38;5;241m=\u001b[39m ret \u001b[38;5;241m/\u001b[39m rcount\n",
      "\u001b[0;31mAttributeError\u001b[0m: 'torch.dtype' object has no attribute 'type'"
     ]
    }
   ],
   "source": [
    "list_tensors = agent1.values\n",
    "array_tensors = np.array(list_tensors)\n",
    "np.mean(array_tensors)"
   ]
  },
  {
   "cell_type": "code",
   "execution_count": 51,
   "id": "295313f7",
   "metadata": {},
   "outputs": [],
   "source": [
    "agent1.dict.update([('key_4', torch.Tensor )])"
   ]
  },
  {
   "cell_type": "code",
   "execution_count": 53,
   "id": "29238597",
   "metadata": {},
   "outputs": [],
   "source": [
    "def convert_list_tensor_to_numpy(x: list) -> list:\n",
    "    list_np_array = []\n",
    "    for tensor in x:\n",
    "        np_array = tensor.numpy()\n",
    "        list_np_array.append(np_array)\n",
    "    return list_np_array\n",
    "\n",
    "        "
   ]
  },
  {
   "cell_type": "code",
   "execution_count": 55,
   "id": "f8953978",
   "metadata": {},
   "outputs": [],
   "source": [
    "list_np_array = convert_list_tensor_to_numpy(agent1.values)"
   ]
  },
  {
   "cell_type": "code",
   "execution_count": 56,
   "id": "2e96303f",
   "metadata": {},
   "outputs": [
    {
     "name": "stdout",
     "output_type": "stream",
     "text": [
      "[array([[9.6867418e-01, 5.6476444e-01, 7.1470076e-01],\n",
      "       [5.6445599e-04, 6.8449986e-01, 1.5154779e-01]], dtype=float32), array([[0.7344971 , 0.5336456 , 0.67434955],\n",
      "       [0.7321491 , 0.7649347 , 0.23095113]], dtype=float32), array([[0.9732567 , 0.40582418, 0.7800113 ],\n",
      "       [0.21378475, 0.4447978 , 0.31691587]], dtype=float32)]\n"
     ]
    }
   ],
   "source": [
    "print(list_np_array)"
   ]
  },
  {
   "cell_type": "code",
   "execution_count": 61,
   "id": "aa5ad207",
   "metadata": {},
   "outputs": [
    {
     "data": {
      "text/plain": [
       "array([[0.8921426 , 0.5014114 , 0.72302055],\n",
       "       [0.31549945, 0.6314108 , 0.23313826]], dtype=float32)"
      ]
     },
     "execution_count": 61,
     "metadata": {},
     "output_type": "execute_result"
    }
   ],
   "source": [
    "np.mean(list_np_array, axis=0)"
   ]
  },
  {
   "cell_type": "code",
   "execution_count": 68,
   "id": "4bb4d4f0",
   "metadata": {
    "scrolled": true
   },
   "outputs": [
    {
     "name": "stdout",
     "output_type": "stream",
     "text": [
      "odict_items([('key_0', tensor([[9.6867e-01, 5.6476e-01, 7.1470e-01],\n",
      "        [5.6446e-04, 6.8450e-01, 1.5155e-01]])), ('key_1', tensor([[0.7345, 0.5336, 0.6743],\n",
      "        [0.7321, 0.7649, 0.2310]])), ('key_2', tensor([[0.9733, 0.4058, 0.7800],\n",
      "        [0.2138, 0.4448, 0.3169]])), ('key_4', 1)])\n"
     ]
    }
   ],
   "source": [
    "dict_items = agent1.dict.items()\n",
    "print(dict_items)"
   ]
  },
  {
   "cell_type": "code",
   "execution_count": 70,
   "id": "b6f29caa",
   "metadata": {},
   "outputs": [
    {
     "data": {
      "text/plain": [
       "['key_0', 'key_1', 'key_2', 'key_4']"
      ]
     },
     "execution_count": 70,
     "metadata": {},
     "output_type": "execute_result"
    }
   ],
   "source": [
    "list(agent1.dict.keys())"
   ]
  },
  {
   "cell_type": "code",
   "execution_count": null,
   "id": "36710598",
   "metadata": {},
   "outputs": [],
   "source": []
  }
 ],
 "metadata": {
  "kernelspec": {
   "display_name": "Python 3 (ipykernel)",
   "language": "python",
   "name": "python3"
  },
  "language_info": {
   "codemirror_mode": {
    "name": "ipython",
    "version": 3
   },
   "file_extension": ".py",
   "mimetype": "text/x-python",
   "name": "python",
   "nbconvert_exporter": "python",
   "pygments_lexer": "ipython3",
   "version": "3.8.10"
  }
 },
 "nbformat": 4,
 "nbformat_minor": 5
}
